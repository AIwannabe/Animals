{
  "nbformat": 4,
  "nbformat_minor": 0,
  "metadata": {
    "colab": {
      "provenance": [],
      "authorship_tag": "ABX9TyO9LeeRsOveV7gB1wbvp8XQ",
      "include_colab_link": true
    },
    "kernelspec": {
      "name": "python3",
      "display_name": "Python 3"
    },
    "language_info": {
      "name": "python"
    }
  },
  "cells": [
    {
      "cell_type": "markdown",
      "metadata": {
        "id": "view-in-github",
        "colab_type": "text"
      },
      "source": [
        "<a href=\"https://colab.research.google.com/github/AIwannabe/Animals/blob/main/Is_it_a_cat_or_a_dog_or%3F.ipynb\" target=\"_parent\"><img src=\"https://colab.research.google.com/assets/colab-badge.svg\" alt=\"Open In Colab\"/></a>"
      ]
    },
    {
      "cell_type": "code",
      "execution_count": 2,
      "metadata": {
        "id": "OOApwFxupj_1"
      },
      "outputs": [],
      "source": [
        "import numpy as np\n",
        "from tensorflow.keras.models import Sequential\n",
        "from tensorflow.keras.layers import Dense, Flatten\n",
        "from tensorflow.keras.datasets import cifar10\n",
        "from tensorflow.keras.utils import to_categorical"
      ]
    },
    {
      "cell_type": "code",
      "source": [
        "# Load the CIFAR-10 dataset\n",
        "(X_train, y_train), (X_test, y_test) = cifar10.load_data()\n",
        "\n",
        "# Select only cats (label 3) and dogs (label 5)\n",
        "cat_dog_train = np.where((y_train == 3) | (y_train == 5))[0]\n",
        "cat_dog_test = np.where((y_test == 3) | (y_test == 5))[0]\n",
        "\n",
        "X_train = X_train[cat_dog_train]\n",
        "y_train = y_train[cat_dog_train]\n",
        "X_test = X_test[cat_dog_test]\n",
        "y_test = y_test[cat_dog_test]\n",
        "\n",
        "# Convert labels: 3 -> 0 (cat), 5 -> 1 (dog)\n",
        "y_train = np.where(y_train == 3, 0, 1)\n",
        "y_test = np.where(y_test == 3, 0, 1)"
      ],
      "metadata": {
        "colab": {
          "base_uri": "https://localhost:8080/"
        },
        "id": "I37DY0ihptoe",
        "outputId": "b1531b8b-fd28-4da9-d4e8-2cd5733cba4a"
      },
      "execution_count": 3,
      "outputs": [
        {
          "output_type": "stream",
          "name": "stdout",
          "text": [
            "Downloading data from https://www.cs.toronto.edu/~kriz/cifar-10-python.tar.gz\n",
            "\u001b[1m170498071/170498071\u001b[0m \u001b[32m━━━━━━━━━━━━━━━━━━━━\u001b[0m\u001b[37m\u001b[0m \u001b[1m2s\u001b[0m 0us/step\n"
          ]
        }
      ]
    },
    {
      "cell_type": "code",
      "source": [
        "# Normalize the pixel values (0 to 1)\n",
        "X_train = X_train.astype('float32') / 255\n",
        "X_test = X_test.astype('float32') / 255\n",
        "\n",
        "# Flatten the images from 32x32 pixels to a single 1D array (32*32*3 = 3072)\n",
        "X_train = X_train.reshape(X_train.shape[0], 32 * 32 * 3)\n",
        "X_test = X_test.reshape(X_test.shape[0], 32 * 32 * 3)\n"
      ],
      "metadata": {
        "id": "7ZeNaEsup3L0"
      },
      "execution_count": 4,
      "outputs": []
    },
    {
      "cell_type": "code",
      "source": [
        "# Create the perceptron model\n",
        "model = Sequential()\n",
        "\n",
        "# Add a Dense layer with 1 perceptron (neuron) and sigmoid activation (for binary classification)\n",
        "model.add(Dense(1, input_shape=(32 * 32 * 3,), activation='sigmoid'))\n",
        "\n",
        "# Compile the model\n",
        "model.compile(optimizer='adam', loss='binary_crossentropy', metrics=['accuracy'])\n"
      ],
      "metadata": {
        "id": "6ThyicuYp82d"
      },
      "execution_count": 6,
      "outputs": []
    },
    {
      "cell_type": "code",
      "source": [
        "# Train the model\n",
        "model.fit(X_train, y_train, epochs=10, batch_size=32, validation_data=(X_test, y_test))"
      ],
      "metadata": {
        "colab": {
          "base_uri": "https://localhost:8080/"
        },
        "id": "JYwLrtgYqFz1",
        "outputId": "0f93b1ff-f4a1-44bb-ada1-e45abf444607"
      },
      "execution_count": 7,
      "outputs": [
        {
          "output_type": "stream",
          "name": "stdout",
          "text": [
            "Epoch 1/10\n",
            "\u001b[1m313/313\u001b[0m \u001b[32m━━━━━━━━━━━━━━━━━━━━\u001b[0m\u001b[37m\u001b[0m \u001b[1m2s\u001b[0m 3ms/step - accuracy: 0.5251 - loss: 0.7259 - val_accuracy: 0.5860 - val_loss: 0.6798\n",
            "Epoch 2/10\n",
            "\u001b[1m313/313\u001b[0m \u001b[32m━━━━━━━━━━━━━━━━━━━━\u001b[0m\u001b[37m\u001b[0m \u001b[1m1s\u001b[0m 2ms/step - accuracy: 0.5699 - loss: 0.6915 - val_accuracy: 0.5680 - val_loss: 0.6779\n",
            "Epoch 3/10\n",
            "\u001b[1m313/313\u001b[0m \u001b[32m━━━━━━━━━━━━━━━━━━━━\u001b[0m\u001b[37m\u001b[0m \u001b[1m1s\u001b[0m 2ms/step - accuracy: 0.5848 - loss: 0.6765 - val_accuracy: 0.5945 - val_loss: 0.6682\n",
            "Epoch 4/10\n",
            "\u001b[1m313/313\u001b[0m \u001b[32m━━━━━━━━━━━━━━━━━━━━\u001b[0m\u001b[37m\u001b[0m \u001b[1m1s\u001b[0m 2ms/step - accuracy: 0.5846 - loss: 0.6775 - val_accuracy: 0.5075 - val_loss: 0.7992\n",
            "Epoch 5/10\n",
            "\u001b[1m313/313\u001b[0m \u001b[32m━━━━━━━━━━━━━━━━━━━━\u001b[0m\u001b[37m\u001b[0m \u001b[1m1s\u001b[0m 2ms/step - accuracy: 0.5749 - loss: 0.6847 - val_accuracy: 0.5880 - val_loss: 0.6781\n",
            "Epoch 6/10\n",
            "\u001b[1m313/313\u001b[0m \u001b[32m━━━━━━━━━━━━━━━━━━━━\u001b[0m\u001b[37m\u001b[0m \u001b[1m2s\u001b[0m 3ms/step - accuracy: 0.5941 - loss: 0.6663 - val_accuracy: 0.6105 - val_loss: 0.6649\n",
            "Epoch 7/10\n",
            "\u001b[1m313/313\u001b[0m \u001b[32m━━━━━━━━━━━━━━━━━━━━\u001b[0m\u001b[37m\u001b[0m \u001b[1m1s\u001b[0m 3ms/step - accuracy: 0.6030 - loss: 0.6670 - val_accuracy: 0.5905 - val_loss: 0.6812\n",
            "Epoch 8/10\n",
            "\u001b[1m313/313\u001b[0m \u001b[32m━━━━━━━━━━━━━━━━━━━━\u001b[0m\u001b[37m\u001b[0m \u001b[1m1s\u001b[0m 2ms/step - accuracy: 0.6001 - loss: 0.6622 - val_accuracy: 0.5960 - val_loss: 0.6678\n",
            "Epoch 9/10\n",
            "\u001b[1m313/313\u001b[0m \u001b[32m━━━━━━━━━━━━━━━━━━━━\u001b[0m\u001b[37m\u001b[0m \u001b[1m1s\u001b[0m 2ms/step - accuracy: 0.6084 - loss: 0.6595 - val_accuracy: 0.6020 - val_loss: 0.6705\n",
            "Epoch 10/10\n",
            "\u001b[1m313/313\u001b[0m \u001b[32m━━━━━━━━━━━━━━━━━━━━\u001b[0m\u001b[37m\u001b[0m \u001b[1m1s\u001b[0m 2ms/step - accuracy: 0.6149 - loss: 0.6545 - val_accuracy: 0.6080 - val_loss: 0.6673\n"
          ]
        },
        {
          "output_type": "execute_result",
          "data": {
            "text/plain": [
              "<keras.src.callbacks.history.History at 0x7ab400b25300>"
            ]
          },
          "metadata": {},
          "execution_count": 7
        }
      ]
    },
    {
      "cell_type": "code",
      "source": [
        "# Evaluate the model on the test data\n",
        "loss, accuracy = model.evaluate(X_test, y_test)\n",
        "print(f'Test accuracy: {accuracy * 100:.2f}%')\n"
      ],
      "metadata": {
        "colab": {
          "base_uri": "https://localhost:8080/"
        },
        "id": "cDQWzqY1qPr_",
        "outputId": "89c2f666-47bd-48e5-89e8-b692ceb29d77"
      },
      "execution_count": 8,
      "outputs": [
        {
          "output_type": "stream",
          "name": "stdout",
          "text": [
            "\u001b[1m63/63\u001b[0m \u001b[32m━━━━━━━━━━━━━━━━━━━━\u001b[0m\u001b[37m\u001b[0m \u001b[1m0s\u001b[0m 2ms/step - accuracy: 0.5834 - loss: 0.6845\n",
            "Test accuracy: 60.80%\n"
          ]
        }
      ]
    },
    {
      "cell_type": "code",
      "source": [
        "# Predict on a new image from the test set\n",
        "import matplotlib.pyplot as plt\n",
        "\n",
        "# Select a random test image\n",
        "index = np.random.randint(0, X_test.shape[0])\n",
        "image = X_test[index].reshape(32, 32, 3)\n",
        "\n",
        "# Display the image\n",
        "plt.imshow(image)\n",
        "plt.show()\n",
        "\n",
        "# Make a prediction (0 = cat, 1 = dog)\n",
        "prediction = model.predict(X_test[index].reshape(1, 32 * 32 * 3))\n",
        "if prediction > 0.5:\n",
        "    print(\"It's a dog!\")\n",
        "else:\n",
        "    print(\"It's a cat!\")\n"
      ],
      "metadata": {
        "colab": {
          "base_uri": "https://localhost:8080/",
          "height": 465
        },
        "id": "_E9GsiJgqYO6",
        "outputId": "a08e0f27-638f-4a59-f185-75ef94f5edb6"
      },
      "execution_count": 9,
      "outputs": [
        {
          "output_type": "display_data",
          "data": {
            "text/plain": [
              "<Figure size 640x480 with 1 Axes>"
            ],
            "image/png": "[encoded data removed]"
          },
          "metadata": {}
        },
        {
          "output_type": "stream",
          "name": "stdout",
          "text": [
            "\u001b[1m1/1\u001b[0m \u001b[32m━━━━━━━━━━━━━━━━━━━━\u001b[0m\u001b[37m\u001b[0m \u001b[1m0s\u001b[0m 142ms/step\n",
            "It's a cat!\n"
          ]
        }
      ]
    },
    {
      "cell_type": "code",
      "source": [
        "from tensorflow.keras.preprocessing import image\n",
        "import numpy as np\n",
        "import matplotlib.pyplot as plt\n",
        "\n",
        "# Load your image (replace 'your_image.jpg' with the filename you uploaded)\n",
        "img_path = 'pet.webp'  # This is the name of the image you uploaded\n",
        "\n",
        "# Load the image and resize it to 32x32 pixels\n",
        "img = image.load_img(img_path, target_size=(32, 32))\n",
        "\n",
        "# Display the image\n",
        "plt.imshow(img)\n",
        "plt.show()\n",
        "\n",
        "# Convert the image to a numpy array and preprocess it\n",
        "img_array = image.img_to_array(img)\n",
        "img_array = img_array.astype('float32') / 255  # Normalize the image (0-1)\n",
        "img_array = img_array.reshape(1, 32 * 32 * 3)  # Flatten the image to match input shape\n"
      ],
      "metadata": {
        "colab": {
          "base_uri": "https://localhost:8080/",
          "height": 430
        },
        "id": "U6bMfP3Mqk3z",
        "outputId": "63eb245e-8d0f-4b13-c9f2-e7c9220a5a54"
      },
      "execution_count": 10,
      "outputs": [
        {
          "output_type": "display_data",
          "data": {
            "text/plain": [
              "<Figure size 640x480 with 1 Axes>"
            ],
            "image/png": "[encoded data removed]"
          },
          "metadata": {}
        }
      ]
    },
    {
      "cell_type": "code",
      "source": [
        "# Use the trained model to predict if it's a cat or a dog\n",
        "prediction = model.predict(img_array)\n",
        "\n",
        "# Interpret the prediction\n",
        "if prediction > 0.5:\n",
        "    print(\"It's a dog!\")\n",
        "else:\n",
        "    print(\"It's a cat!\")"
      ],
      "metadata": {
        "colab": {
          "base_uri": "https://localhost:8080/"
        },
        "id": "PnQKeHtxrQ0H",
        "outputId": "5af4682e-2c62-44e6-dfaf-45ebbb113cff"
      },
      "execution_count": 11,
      "outputs": [
        {
          "output_type": "stream",
          "name": "stdout",
          "text": [
            "\u001b[1m1/1\u001b[0m \u001b[32m━━━━━━━━━━━━━━━━━━━━\u001b[0m\u001b[37m\u001b[0m \u001b[1m0s\u001b[0m 48ms/step\n",
            "It's a dog!\n"
          ]
        }
      ]
    },
    {
      "cell_type": "code",
      "source": [
        "from tensorflow.keras.preprocessing import image\n",
        "import numpy as np\n",
        "import matplotlib.pyplot as plt\n",
        "\n",
        "# Load your image (replace 'your_image.jpg' with the filename you uploaded)\n",
        "img_path = 'pet2.jpg'  # This is the name of the image you uploaded\n",
        "\n",
        "# Load the image and resize it to 32x32 pixels\n",
        "img = image.load_img(img_path, target_size=(32, 32))\n",
        "\n",
        "# Display the image\n",
        "plt.imshow(img)\n",
        "plt.show()\n",
        "\n",
        "# Convert the image to a numpy array and preprocess it\n",
        "img_array = image.img_to_array(img)\n",
        "img_array = img_array.astype('float32') / 255  # Normalize the image (0-1)\n",
        "img_array = img_array.reshape(1, 32 * 32 * 3)  # Flatten the image to match input shape\n",
        "\n",
        "# Use the trained model to predict if it's a cat or a dog\n",
        "prediction = model.predict(img_array)\n",
        "\n",
        "# Interpret the prediction\n",
        "if prediction > 0.5:\n",
        "    print(\"It's a dog!\")\n",
        "else:\n",
        "    print(\"It's a cat!\")\n"
      ],
      "metadata": {
        "colab": {
          "base_uri": "https://localhost:8080/",
          "height": 465
        },
        "id": "atnfpR0urY79",
        "outputId": "31915f2c-c74d-48ac-e4a1-0e56cb14e470"
      },
      "execution_count": 12,
      "outputs": [
        {
          "output_type": "display_data",
          "data": {
            "text/plain": [
              "<Figure size 640x480 with 1 Axes>"
            ],
            "image/png": "[encoded data removed]"
          },
          "metadata": {}
        },
        {
          "output_type": "stream",
          "name": "stdout",
          "text": [
            "\u001b[1m1/1\u001b[0m \u001b[32m━━━━━━━━━━━━━━━━━━━━\u001b[0m\u001b[37m\u001b[0m \u001b[1m0s\u001b[0m 26ms/step\n",
            "It's a cat!\n"
          ]
        }
      ]
    },
    {
      "cell_type": "code",
      "source": [
        "from tensorflow.keras.applications import VGG16\n",
        "from tensorflow.keras.applications.vgg16 import preprocess_input, decode_predictions\n",
        "\n",
        "# Load the pre-trained VGG16 model\n",
        "model = VGG16(weights='imagenet')\n",
        "\n",
        "# Load your image and preprocess it for VGG16\n",
        "img = image.load_img('pet2.jpg', target_size=(224, 224))\n",
        "img_array = image.img_to_array(img)\n",
        "img_array = np.expand_dims(img_array, axis=0)\n",
        "img_array = preprocess_input(img_array)\n",
        "\n",
        "# Make a prediction\n",
        "predictions = model.predict(img_array)\n",
        "\n",
        "# Decode the predictions\n",
        "decoded_predictions = decode_predictions(predictions, top=3)\n",
        "for i, (imagenet_id, label, score) in enumerate(decoded_predictions[0]):\n",
        "    print(f\"{i + 1}: {label} ({score:.2f})\")\n"
      ],
      "metadata": {
        "colab": {
          "base_uri": "https://localhost:8080/"
        },
        "id": "3vhoK1Qfs_P0",
        "outputId": "2757e5f1-dcf8-46a6-bfed-507d7d79d5db"
      },
      "execution_count": 14,
      "outputs": [
        {
          "output_type": "stream",
          "name": "stdout",
          "text": [
            "\u001b[1m1/1\u001b[0m \u001b[32m━━━━━━━━━━━━━━━━━━━━\u001b[0m\u001b[37m\u001b[0m \u001b[1m1s\u001b[0m 953ms/step\n",
            "Downloading data from https://storage.googleapis.com/download.tensorflow.org/data/imagenet_class_index.json\n",
            "\u001b[1m35363/35363\u001b[0m \u001b[32m━━━━━━━━━━━━━━━━━━━━\u001b[0m\u001b[37m\u001b[0m \u001b[1m0s\u001b[0m 0us/step\n",
            "1: robin (0.64)\n",
            "2: jacamar (0.18)\n",
            "3: brambling (0.11)\n"
          ]
        }
      ]
    },
    {
      "cell_type": "code",
      "source": [
        "from tensorflow.keras.applications import VGG16\n",
        "from tensorflow.keras.applications.vgg16 import preprocess_input, decode_predictions\n",
        "from tensorflow.keras.preprocessing import image\n",
        "import numpy as np\n",
        "\n",
        "# Load the pre-trained VGG16 model\n",
        "model = VGG16(weights='imagenet')\n",
        "\n",
        "# Load your new bird image and resize it to 224x224 pixels (required by VGG16)\n",
        "img_path = 'pet3.jpg'  # Replace this with your new image file name\n",
        "img = image.load_img(img_path, target_size=(224, 224))\n",
        "\n",
        "# Convert the image to a numpy array\n",
        "img_array = image.img_to_array(img)\n",
        "img_array = np.expand_dims(img_array, axis=0)\n",
        "\n",
        "# Preprocess the image for VGG16\n",
        "img_array = preprocess_input(img_array)\n",
        "\n",
        "# Make a prediction\n",
        "predictions = model.predict(img_array)\n",
        "\n",
        "# Decode and print the top 3 predictions\n",
        "decoded_predictions = decode_predictions(predictions, top=3)\n",
        "for i, (imagenet_id, label, score) in enumerate(decoded_predictions[0]):\n",
        "    print(f\"{i + 1}: {label} ({score:.2f})\")\n"
      ],
      "metadata": {
        "colab": {
          "base_uri": "https://localhost:8080/"
        },
        "id": "bCUrS67ntAJO",
        "outputId": "c9c94534-e75c-4fe1-cb1d-0e2bbf768898"
      },
      "execution_count": 15,
      "outputs": [
        {
          "output_type": "stream",
          "name": "stdout",
          "text": [
            "\u001b[1m1/1\u001b[0m \u001b[32m━━━━━━━━━━━━━━━━━━━━\u001b[0m\u001b[37m\u001b[0m \u001b[1m1s\u001b[0m 1s/step\n",
            "1: toucan (1.00)\n",
            "2: hornbill (0.00)\n",
            "3: macaw (0.00)\n"
          ]
        }
      ]
    },
    {
      "cell_type": "code",
      "source": [
        "# Your image processing and prediction code here\n",
        "img_path = 'pet4.jpg'\n",
        "img = image.load_img(img_path, target_size=(224, 224))\n",
        "img_array = image.img_to_array(img)\n",
        "img_array = np.expand_dims(img_array, axis=0)\n",
        "img_array = preprocess_input(img_array)\n",
        "\n",
        "predictions = model.predict(img_array)\n",
        "decoded_predictions = decode_predictions(predictions, top=3)\n",
        "for i, (imagenet_id, label, score) in enumerate(decoded_predictions[0]):\n",
        "    print(f\"{i + 1}: {label} ({score:.2f})\")"
      ],
      "metadata": {
        "colab": {
          "base_uri": "https://localhost:8080/"
        },
        "id": "Xi7-EtdBvJkI",
        "outputId": "a03c6e27-55c3-49e1-e265-683570be7db7"
      },
      "execution_count": 16,
      "outputs": [
        {
          "output_type": "stream",
          "name": "stdout",
          "text": [
            "\u001b[1m1/1\u001b[0m \u001b[32m━━━━━━━━━━━━━━━━━━━━\u001b[0m\u001b[37m\u001b[0m \u001b[1m1s\u001b[0m 1s/step\n",
            "1: hen (0.33)\n",
            "2: great_grey_owl (0.23)\n",
            "3: ruffed_grouse (0.10)\n"
          ]
        }
      ]
    },
    {
      "cell_type": "code",
      "source": [
        "# Your image processing and prediction code here\n",
        "img_path = 'pet5.jpg'\n",
        "img = image.load_img(img_path, target_size=(224, 224))\n",
        "img_array = image.img_to_array(img)\n",
        "img_array = np.expand_dims(img_array, axis=0)\n",
        "img_array = preprocess_input(img_array)\n",
        "\n",
        "predictions = model.predict(img_array)\n",
        "decoded_predictions = decode_predictions(predictions, top=3)\n",
        "for i, (imagenet_id, label, score) in enumerate(decoded_predictions[0]):\n",
        "    print(f\"{i + 1}: {label} ({score:.2f})\")"
      ],
      "metadata": {
        "colab": {
          "base_uri": "https://localhost:8080/"
        },
        "id": "3sSxGDwavvNN",
        "outputId": "46f32d64-5f77-4736-cc38-6f3f1e9d74c3"
      },
      "execution_count": 17,
      "outputs": [
        {
          "output_type": "stream",
          "name": "stdout",
          "text": [
            "\u001b[1m1/1\u001b[0m \u001b[32m━━━━━━━━━━━━━━━━━━━━\u001b[0m\u001b[37m\u001b[0m \u001b[1m1s\u001b[0m 1s/step\n",
            "1: great_grey_owl (0.89)\n",
            "2: ptarmigan (0.03)\n",
            "3: prairie_chicken (0.01)\n"
          ]
        }
      ]
    },
    {
      "cell_type": "code",
      "source": [
        "from tensorflow.keras.applications import ResNet50\n",
        "from tensorflow.keras.applications.resnet50 import preprocess_input, decode_predictions\n",
        "\n",
        "# Load the pre-trained ResNet50 model\n",
        "model = ResNet50(weights='imagenet')\n",
        "\n",
        "# Use the same image loading and preprocessing steps\n",
        "img_path = 'pet4.jpg'  # Your new owl image\n",
        "img = image.load_img(img_path, target_size=(224, 224))\n",
        "img_array = image.img_to_array(img)\n",
        "img_array = np.expand_dims(img_array, axis=0)\n",
        "img_array = preprocess_input(img_array)\n",
        "\n",
        "# Make a prediction with ResNet50\n",
        "predictions = model.predict(img_array)\n",
        "decoded_predictions = decode_predictions(predictions, top=3)\n",
        "\n",
        "# Display the predictions\n",
        "for i, (imagenet_id, label, score) in enumerate(decoded_predictions[0]):\n",
        "    print(f\"{i + 1}: {label} ({score:.2f})\")\n"
      ],
      "metadata": {
        "colab": {
          "base_uri": "https://localhost:8080/"
        },
        "id": "rcmwiPL4wv1d",
        "outputId": "61e5f68f-fa1a-4210-a486-d0bf42e27d7c"
      },
      "execution_count": 19,
      "outputs": [
        {
          "output_type": "stream",
          "name": "stdout",
          "text": [
            "\u001b[1m1/1\u001b[0m \u001b[32m━━━━━━━━━━━━━━━━━━━━\u001b[0m\u001b[37m\u001b[0m \u001b[1m2s\u001b[0m 2s/step\n",
            "1: great_grey_owl (0.49)\n",
            "2: hen (0.09)\n",
            "3: ruffed_grouse (0.08)\n"
          ]
        }
      ]
    },
    {
      "cell_type": "code",
      "source": [
        "from tensorflow.keras.applications import ResNet50\n",
        "from tensorflow.keras.applications.resnet50 import preprocess_input, decode_predictions\n",
        "\n",
        "# Load the pre-trained ResNet50 model\n",
        "model = ResNet50(weights='imagenet')\n",
        "\n",
        "# Use the same image loading and preprocessing steps\n",
        "img_path = 'pet5.jpg'  # Your new owl image\n",
        "img = image.load_img(img_path, target_size=(224, 224))\n",
        "img_array = image.img_to_array(img)\n",
        "img_array = np.expand_dims(img_array, axis=0)\n",
        "img_array = preprocess_input(img_array)\n",
        "\n",
        "# Make a prediction with ResNet50\n",
        "predictions = model.predict(img_array)\n",
        "decoded_predictions = decode_predictions(predictions, top=3)\n",
        "\n",
        "# Display the predictions\n",
        "for i, (imagenet_id, label, score) in enumerate(decoded_predictions[0]):\n",
        "    print(f\"{i + 1}: {label} ({score:.2f})\")\n"
      ],
      "metadata": {
        "colab": {
          "base_uri": "https://localhost:8080/"
        },
        "id": "2g4ltTMNxaFJ",
        "outputId": "a1d8a90a-9edf-4f86-d829-e326e8132155"
      },
      "execution_count": 20,
      "outputs": [
        {
          "output_type": "stream",
          "name": "stderr",
          "text": [
            "WARNING:tensorflow:5 out of the last 9 calls to <function TensorFlowTrainer.make_predict_function.<locals>.one_step_on_data_distributed at 0x7ab406f664d0> triggered tf.function retracing. Tracing is expensive and the excessive number of tracings could be due to (1) creating @tf.function repeatedly in a loop, (2) passing tensors with different shapes, (3) passing Python objects instead of tensors. For (1), please define your @tf.function outside of the loop. For (2), @tf.function has reduce_retracing=True option that can avoid unnecessary retracing. For (3), please refer to https://www.tensorflow.org/guide/function#controlling_retracing and https://www.tensorflow.org/api_docs/python/tf/function for  more details.\n"
          ]
        },
        {
          "output_type": "stream",
          "name": "stdout",
          "text": [
            "\u001b[1m1/1\u001b[0m \u001b[32m━━━━━━━━━━━━━━━━━━━━\u001b[0m\u001b[37m\u001b[0m \u001b[1m3s\u001b[0m 3s/step\n",
            "1: great_grey_owl (0.99)\n",
            "2: kite (0.01)\n",
            "3: ptarmigan (0.00)\n"
          ]
        }
      ]
    },
    {
      "cell_type": "code",
      "source": [],
      "metadata": {
        "id": "j4MXlEpjx2H2"
      },
      "execution_count": null,
      "outputs": []
    }
  ]
}